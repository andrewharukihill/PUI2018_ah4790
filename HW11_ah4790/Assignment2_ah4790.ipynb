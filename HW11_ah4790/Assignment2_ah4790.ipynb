{
 "cells": [
  {
   "cell_type": "markdown",
   "metadata": {},
   "source": [
    "## Incorporating critiques on my plot:\n",
    "Christine suggested \n",
    "- Refuse collection per person in each borough might be interesting.\n",
    "- Including some conjecture about why Staten Island has the most refuse could improve your caption, since it is pretty surprising that Staten Island is first in refuse collection.\n",
    "- Plotting refuse collection over a longer time period could be interesting as well, if data are available.\n",
    "- This is my personal preference, but I would resize your x and y labels to be smaller than your title."
   ]
  },
  {
   "cell_type": "code",
   "execution_count": 2,
   "metadata": {},
   "outputs": [],
   "source": [
    "import os\n",
    "import sys\n",
    "import pandas as pd\n",
    "import numpy as np\n",
    "import matplotlib.pyplot as plt\n",
    "%matplotlib inline"
   ]
  },
  {
   "cell_type": "code",
   "execution_count": 3,
   "metadata": {},
   "outputs": [
    {
     "data": {
      "text/html": [
       "<div>\n",
       "<table border=\"1\" class=\"dataframe\">\n",
       "  <thead>\n",
       "    <tr style=\"text-align: right;\">\n",
       "      <th></th>\n",
       "      <th>MONTH</th>\n",
       "      <th>BOROUGH</th>\n",
       "      <th>COMMUNITYDISTRICT</th>\n",
       "      <th>REFUSETONSCOLLECTED</th>\n",
       "      <th>PAPERTONSCOLLECTED</th>\n",
       "      <th>MGPTONSCOLLECTED</th>\n",
       "      <th>RESORGANICSTONS</th>\n",
       "      <th>SCHOOLORGANICTONS</th>\n",
       "      <th>LEAVESORGANICTONS</th>\n",
       "      <th>XMASTREETONS</th>\n",
       "      <th>BOROUGH_ID</th>\n",
       "    </tr>\n",
       "  </thead>\n",
       "  <tbody>\n",
       "    <tr>\n",
       "      <th>0</th>\n",
       "      <td>2017 / 08</td>\n",
       "      <td>Manhattan</td>\n",
       "      <td>7</td>\n",
       "      <td>4754.7</td>\n",
       "      <td>997.3</td>\n",
       "      <td>720.0</td>\n",
       "      <td>19.4</td>\n",
       "      <td>NaN</td>\n",
       "      <td>NaN</td>\n",
       "      <td>NaN</td>\n",
       "      <td>1</td>\n",
       "    </tr>\n",
       "    <tr>\n",
       "      <th>1</th>\n",
       "      <td>2017 / 08</td>\n",
       "      <td>Manhattan</td>\n",
       "      <td>12</td>\n",
       "      <td>4996.5</td>\n",
       "      <td>494.5</td>\n",
       "      <td>530.3</td>\n",
       "      <td>NaN</td>\n",
       "      <td>NaN</td>\n",
       "      <td>NaN</td>\n",
       "      <td>NaN</td>\n",
       "      <td>1</td>\n",
       "    </tr>\n",
       "    <tr>\n",
       "      <th>2</th>\n",
       "      <td>2017 / 08</td>\n",
       "      <td>Queens</td>\n",
       "      <td>8</td>\n",
       "      <td>3805.1</td>\n",
       "      <td>461.0</td>\n",
       "      <td>412.8</td>\n",
       "      <td>NaN</td>\n",
       "      <td>NaN</td>\n",
       "      <td>NaN</td>\n",
       "      <td>NaN</td>\n",
       "      <td>4</td>\n",
       "    </tr>\n",
       "    <tr>\n",
       "      <th>3</th>\n",
       "      <td>2017 / 08</td>\n",
       "      <td>Brooklyn</td>\n",
       "      <td>18</td>\n",
       "      <td>5907.8</td>\n",
       "      <td>584.1</td>\n",
       "      <td>599.3</td>\n",
       "      <td>NaN</td>\n",
       "      <td>NaN</td>\n",
       "      <td>NaN</td>\n",
       "      <td>NaN</td>\n",
       "      <td>3</td>\n",
       "    </tr>\n",
       "    <tr>\n",
       "      <th>4</th>\n",
       "      <td>2017 / 08</td>\n",
       "      <td>Queens</td>\n",
       "      <td>5</td>\n",
       "      <td>4827.9</td>\n",
       "      <td>597.6</td>\n",
       "      <td>758.9</td>\n",
       "      <td>185.3</td>\n",
       "      <td>NaN</td>\n",
       "      <td>NaN</td>\n",
       "      <td>NaN</td>\n",
       "      <td>4</td>\n",
       "    </tr>\n",
       "  </tbody>\n",
       "</table>\n",
       "</div>"
      ],
      "text/plain": [
       "       MONTH    BOROUGH  COMMUNITYDISTRICT  REFUSETONSCOLLECTED  \\\n",
       "0  2017 / 08  Manhattan                  7               4754.7   \n",
       "1  2017 / 08  Manhattan                 12               4996.5   \n",
       "2  2017 / 08     Queens                  8               3805.1   \n",
       "3  2017 / 08   Brooklyn                 18               5907.8   \n",
       "4  2017 / 08     Queens                  5               4827.9   \n",
       "\n",
       "   PAPERTONSCOLLECTED  MGPTONSCOLLECTED  RESORGANICSTONS  SCHOOLORGANICTONS  \\\n",
       "0               997.3             720.0             19.4                NaN   \n",
       "1               494.5             530.3              NaN                NaN   \n",
       "2               461.0             412.8              NaN                NaN   \n",
       "3               584.1             599.3              NaN                NaN   \n",
       "4               597.6             758.9            185.3                NaN   \n",
       "\n",
       "   LEAVESORGANICTONS  XMASTREETONS  BOROUGH_ID  \n",
       "0                NaN           NaN           1  \n",
       "1                NaN           NaN           1  \n",
       "2                NaN           NaN           4  \n",
       "3                NaN           NaN           3  \n",
       "4                NaN           NaN           4  "
      ]
     },
     "execution_count": 3,
     "metadata": {},
     "output_type": "execute_result"
    }
   ],
   "source": [
    "df = pd.read_csv('%s/DSNY_Monthly_Tonnage_Data.csv' %os.getenv('PUIDATA'))\n",
    "df.head()"
   ]
  },
  {
   "cell_type": "code",
   "execution_count": 4,
   "metadata": {},
   "outputs": [],
   "source": [
    "df['date'] = pd.to_datetime(df.MONTH)\n",
    "df = df[df['date'] < '2018-09-01']"
   ]
  },
  {
   "cell_type": "code",
   "execution_count": 5,
   "metadata": {},
   "outputs": [],
   "source": [
    "mn = df[df['BOROUGH'] == 'Manhattan']\n",
    "bk = df[df['BOROUGH'] == 'Brooklyn']\n",
    "si = df[df['BOROUGH'] == 'Staten Island']\n",
    "qn = df[df['BOROUGH'] == 'Queens']\n",
    "bx = df[df['BOROUGH'] == 'Bronx']"
   ]
  },
  {
   "cell_type": "code",
   "execution_count": 6,
   "metadata": {
    "scrolled": true
   },
   "outputs": [
    {
     "data": {
      "text/html": [
       "<div>\n",
       "<table border=\"1\" class=\"dataframe\">\n",
       "  <thead>\n",
       "    <tr style=\"text-align: right;\">\n",
       "      <th></th>\n",
       "      <th>MONTH</th>\n",
       "      <th>BOROUGH</th>\n",
       "      <th>COMMUNITYDISTRICT</th>\n",
       "      <th>REFUSETONSCOLLECTED</th>\n",
       "      <th>PAPERTONSCOLLECTED</th>\n",
       "      <th>MGPTONSCOLLECTED</th>\n",
       "      <th>RESORGANICSTONS</th>\n",
       "      <th>SCHOOLORGANICTONS</th>\n",
       "      <th>LEAVESORGANICTONS</th>\n",
       "      <th>XMASTREETONS</th>\n",
       "      <th>BOROUGH_ID</th>\n",
       "      <th>date</th>\n",
       "    </tr>\n",
       "  </thead>\n",
       "  <tbody>\n",
       "    <tr>\n",
       "      <th>0</th>\n",
       "      <td>2017 / 08</td>\n",
       "      <td>Manhattan</td>\n",
       "      <td>7</td>\n",
       "      <td>4754.7</td>\n",
       "      <td>997.3</td>\n",
       "      <td>720.0</td>\n",
       "      <td>19.4</td>\n",
       "      <td>NaN</td>\n",
       "      <td>NaN</td>\n",
       "      <td>NaN</td>\n",
       "      <td>1</td>\n",
       "      <td>2017-08-01</td>\n",
       "    </tr>\n",
       "    <tr>\n",
       "      <th>1</th>\n",
       "      <td>2017 / 08</td>\n",
       "      <td>Manhattan</td>\n",
       "      <td>12</td>\n",
       "      <td>4996.5</td>\n",
       "      <td>494.5</td>\n",
       "      <td>530.3</td>\n",
       "      <td>NaN</td>\n",
       "      <td>NaN</td>\n",
       "      <td>NaN</td>\n",
       "      <td>NaN</td>\n",
       "      <td>1</td>\n",
       "      <td>2017-08-01</td>\n",
       "    </tr>\n",
       "    <tr>\n",
       "      <th>19</th>\n",
       "      <td>2017 / 10</td>\n",
       "      <td>Manhattan</td>\n",
       "      <td>4</td>\n",
       "      <td>2423.1</td>\n",
       "      <td>431.9</td>\n",
       "      <td>356.8</td>\n",
       "      <td>NaN</td>\n",
       "      <td>NaN</td>\n",
       "      <td>NaN</td>\n",
       "      <td>NaN</td>\n",
       "      <td>1</td>\n",
       "      <td>2017-10-01</td>\n",
       "    </tr>\n",
       "    <tr>\n",
       "      <th>21</th>\n",
       "      <td>2017 / 10</td>\n",
       "      <td>Manhattan</td>\n",
       "      <td>11</td>\n",
       "      <td>2245.2</td>\n",
       "      <td>197.3</td>\n",
       "      <td>175.2</td>\n",
       "      <td>NaN</td>\n",
       "      <td>NaN</td>\n",
       "      <td>NaN</td>\n",
       "      <td>NaN</td>\n",
       "      <td>1</td>\n",
       "      <td>2017-10-01</td>\n",
       "    </tr>\n",
       "    <tr>\n",
       "      <th>24</th>\n",
       "      <td>2017 / 10</td>\n",
       "      <td>Manhattan</td>\n",
       "      <td>6</td>\n",
       "      <td>2944.2</td>\n",
       "      <td>511.1</td>\n",
       "      <td>377.8</td>\n",
       "      <td>19.2</td>\n",
       "      <td>NaN</td>\n",
       "      <td>NaN</td>\n",
       "      <td>NaN</td>\n",
       "      <td>1</td>\n",
       "      <td>2017-10-01</td>\n",
       "    </tr>\n",
       "  </tbody>\n",
       "</table>\n",
       "</div>"
      ],
      "text/plain": [
       "        MONTH    BOROUGH  COMMUNITYDISTRICT  REFUSETONSCOLLECTED  \\\n",
       "0   2017 / 08  Manhattan                  7               4754.7   \n",
       "1   2017 / 08  Manhattan                 12               4996.5   \n",
       "19  2017 / 10  Manhattan                  4               2423.1   \n",
       "21  2017 / 10  Manhattan                 11               2245.2   \n",
       "24  2017 / 10  Manhattan                  6               2944.2   \n",
       "\n",
       "    PAPERTONSCOLLECTED  MGPTONSCOLLECTED  RESORGANICSTONS  SCHOOLORGANICTONS  \\\n",
       "0                997.3             720.0             19.4                NaN   \n",
       "1                494.5             530.3              NaN                NaN   \n",
       "19               431.9             356.8              NaN                NaN   \n",
       "21               197.3             175.2              NaN                NaN   \n",
       "24               511.1             377.8             19.2                NaN   \n",
       "\n",
       "    LEAVESORGANICTONS  XMASTREETONS  BOROUGH_ID       date  \n",
       "0                 NaN           NaN           1 2017-08-01  \n",
       "1                 NaN           NaN           1 2017-08-01  \n",
       "19                NaN           NaN           1 2017-10-01  \n",
       "21                NaN           NaN           1 2017-10-01  \n",
       "24                NaN           NaN           1 2017-10-01  "
      ]
     },
     "execution_count": 6,
     "metadata": {},
     "output_type": "execute_result"
    }
   ],
   "source": [
    "mn.head()"
   ]
  },
  {
   "cell_type": "code",
   "execution_count": 7,
   "metadata": {},
   "outputs": [
    {
     "data": {
      "text/plain": [
       "Text(0.5,1,'Refuse Collected From Each Borough\\nFrom Aug. 2017 to Aug. 2018')"
      ]
     },
     "execution_count": 7,
     "metadata": {},
     "output_type": "execute_result"
    },
    {
     "data": {
      "image/png": "[encoded data removed]",
      "text/plain": [
       "<matplotlib.figure.Figure at 0x7effd956cba8>"
      ]
     },
     "metadata": {},
     "output_type": "display_data"
    }
   ],
   "source": [
    "plt.figure(figsize=(9,8))\n",
    "plt.plot(mn.groupby(['date'])['REFUSETONSCOLLECTED'].mean(), '-b')\n",
    "plt.ylim(0,7000)\n",
    "plt.plot(bk.groupby(['date'])['REFUSETONSCOLLECTED'].mean(), '-r')\n",
    "plt.plot(bx.groupby(['date'])['REFUSETONSCOLLECTED'].mean(), '-g')\n",
    "plt.plot(si.groupby(['date'])['REFUSETONSCOLLECTED'].mean(), '-y')\n",
    "plt.plot(qn.groupby(['date'])['REFUSETONSCOLLECTED'].mean(), '-o')\n",
    "plt.legend(['Manhattan', 'Brooklyn', 'Bronx', 'Staten Island', 'Queens'])\n",
    "plt.xlabel('Date', fontsize=18)\n",
    "plt.ylabel('Refuse Collected (Tons)', fontsize=18)\n",
    "plt.title('Refuse Collected From Each Borough\\nFrom Aug. 2017 to Aug. 2018', fontsize=22)"
   ]
  },
  {
   "cell_type": "markdown",
   "metadata": {},
   "source": [
    "## Figure 1:\n",
    "This figure plots Refuse Collected by the Department of Sanitation against the Date of collection, which ranges from August 2017 to August 2018. Despite having the smallest population, Staten Island has the most refuse collected. One reason may be that the borough contains the Fresh Kills Landfill. This figure also illustrates the possible seasonality of the data, where refuse collection is at its nadir in the winter and peak in early summer/late spring."
   ]
  },
  {
   "cell_type": "code",
   "execution_count": null,
   "metadata": {},
   "outputs": [],
   "source": []
  }
 ],
 "metadata": {
  "kernelspec": {
   "display_name": "PUI2016_Python3",
   "language": "python",
   "name": "pui2016_python3"
  },
  "language_info": {
   "codemirror_mode": {
    "name": "ipython",
    "version": 3
   },
   "file_extension": ".py",
   "mimetype": "text/x-python",
   "name": "python",
   "nbconvert_exporter": "python",
   "pygments_lexer": "ipython3",
   "version": "3.5.4"
  }
 },
 "nbformat": 4,
 "nbformat_minor": 2
}
